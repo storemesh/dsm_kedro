{
 "cells": [
  {
   "cell_type": "code",
   "execution_count": 1,
   "metadata": {},
   "outputs": [],
   "source": [
    "import logging"
   ]
  },
  {
   "cell_type": "code",
   "execution_count": 2,
   "metadata": {},
   "outputs": [],
   "source": [
    "\n",
    "logging.basicConfig(\n",
    "    format='%(asctime)s %(levelname)-8s %(message)s',\n",
    "    datefmt='%Y-%m-%d %H:%M:%S',\n",
    "    # level=logging.WARNING,  # set 3rd party logs to warning (for hiding it)\n",
    "    handlers=[\n",
    "        logging.FileHandler(\"debug.log\"),\n",
    "        logging.StreamHandler()\n",
    "    ]\n",
    ")\n",
    "logger = logging.getLogger(__name__)\n",
    "logger.setLevel(logging.INFO)"
   ]
  },
  {
   "cell_type": "code",
   "execution_count": 5,
   "metadata": {},
   "outputs": [],
   "source": [
    "logging.basicConfig(filename=\"test_log.txt\",\n",
    "                    filemode='a',\n",
    "                    format='%(asctime)s,%(msecs)d %(name)s %(levelname)s %(message)s',\n",
    "                    datefmt='%H:%M:%S',\n",
    "                    level=logging.DEBUG)\n",
    "\n",
    "logging.info(\"Running Urban Planning\")\n",
    "\n",
    "logger = logging.getLogger('urbanGUI')"
   ]
  },
  {
   "cell_type": "code",
   "execution_count": 5,
   "metadata": {},
   "outputs": [],
   "source": [
    "logger = logging.getLogger('kedro')"
   ]
  },
  {
   "cell_type": "code",
   "execution_count": 10,
   "metadata": {},
   "outputs": [
    {
     "name": "stderr",
     "output_type": "stream",
     "text": [
      "2022-12-14 07:16:05 INFO     test   ddd\n"
     ]
    }
   ],
   "source": [
    "logger.info('test   ddd')"
   ]
  },
  {
   "cell_type": "code",
   "execution_count": 6,
   "metadata": {},
   "outputs": [],
   "source": [
    "def silent_loggers() -> None:\n",
    "    \"\"\"All logs need to be silent in order for a clean kedro diff output.\"\"\"\n",
    "    known_kedro_loggers = [\n",
    "        \"ProfileTimeTransformer\",\n",
    "        \"hooks_handler\",\n",
    "        \"kedro.__init__\",\n",
    "        \"kedro\",\n",
    "        \"kedro.config\",\n",
    "        \"kedro.config.config\",\n",
    "        \"kedro.extras.decorators.memory_profiler\",\n",
    "        \"kedro.framework.cli\",\n",
    "        \"kedro.framework.session.session\",\n",
    "        \"kedro.framework.session.store\",\n",
    "        \"kedro.framework.session\",\n",
    "        \"kedro.io.cached_dataset\",\n",
    "        \"kedro.io.data_catalog\",\n",
    "        \"kedro.io\",\n",
    "        \"kedro.journal\",\n",
    "        \"kedro.pipeline\",\n",
    "        \"kedro.pipeline.decorators\",\n",
    "        \"kedro.pipeline.node\",\n",
    "        \"kedro.pipeline.pipeline\",\n",
    "        \"kedro.runner\",\n",
    "        \"kedro.runner.runner\",\n",
    "        \"kedro.versioning.journal\",\n",
    "        \"py4\",\n",
    "    ]\n",
    "    for logger in [\n",
    "        *known_kedro_loggers,\n",
    "        *list(logging.root.manager.loggerDict.keys()),  # type: ignore\n",
    "    ]:\n",
    "        logging.getLogger(logger).setLevel(logging.ERROR)"
   ]
  },
  {
   "cell_type": "code",
   "execution_count": 9,
   "metadata": {},
   "outputs": [],
   "source": [
    "silent_loggers()"
   ]
  }
 ],
 "metadata": {
  "kernelspec": {
   "display_name": "Python 3.8.13 ('kedro-environment')",
   "language": "python",
   "name": "python3"
  },
  "language_info": {
   "codemirror_mode": {
    "name": "ipython",
    "version": 3
   },
   "file_extension": ".py",
   "mimetype": "text/x-python",
   "name": "python",
   "nbconvert_exporter": "python",
   "pygments_lexer": "ipython3",
   "version": "3.8.13"
  },
  "orig_nbformat": 4,
  "vscode": {
   "interpreter": {
    "hash": "d5afbdb21e896a3e932087747fe4f9db54c0d52934671a282b87d0ba91fa994a"
   }
  }
 },
 "nbformat": 4,
 "nbformat_minor": 2
}
